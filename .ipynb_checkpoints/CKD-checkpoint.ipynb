{
 "cells": [
  {
   "cell_type": "code",
   "execution_count": 1,
   "metadata": {},
   "outputs": [],
   "source": [
    "import pandas as pd\n",
    "import numpy as np\n",
    "import matplotlib.pyplot as plt\n",
    "import seaborn as sns\n",
    "import warnings\n",
    "%matplotlib inline\n",
    "warnings.filterwarnings(\"ignore\")\n",
    "from sklearn.model_selection import train_test_split\n",
    "from sklearn.metrics import roc_auc_score\n",
    "from mlxtend.feature_selection import SequentialFeatureSelector as SFS\n",
    "from sklearn.neighbors import KNeighborsClassifier\n",
    "from sklearn.model_selection import cross_val_score\n",
    "from sklearn.metrics import accuracy_score\n",
    "from sklearn.impute import KNNImputer\n",
    "from sklearn.metrics import confusion_matrix"
   ]
  },
  {
   "cell_type": "code",
   "execution_count": 2,
   "metadata": {},
   "outputs": [],
   "source": [
    "df=pd.read_csv('kidney.csv')\n",
    "df.drop('id',axis=1,inplace=True)"
   ]
  },
  {
   "cell_type": "code",
   "execution_count": 3,
   "metadata": {},
   "outputs": [],
   "source": [
    "#convert to numeric data type from object\n",
    "df.pcv = pd.to_numeric(df.pcv, errors='coerce')\n",
    "df.wc = pd.to_numeric(df.wc, errors='coerce')\n",
    "df.rc = pd.to_numeric(df.rc, errors='coerce')"
   ]
  },
  {
   "cell_type": "code",
   "execution_count": 4,
   "metadata": {},
   "outputs": [],
   "source": [
    "df.classification=df.classification.replace('ckd\\t','ckd')\n",
    "df.dm=df.dm.replace([' yes','\\tno','\\tyes'],['yes','no','yes'])\n",
    "df.cad=df.cad.replace('\\tno','no')"
   ]
  },
  {
   "cell_type": "code",
   "execution_count": 5,
   "metadata": {},
   "outputs": [],
   "source": [
    "df[\"sg\"]= df[\"sg\"].fillna(df[\"sg\"].value_counts().idxmax())\n",
    "df[\"al\"]= df[\"al\"].fillna(df[\"al\"].value_counts().idxmax())\n",
    "df[\"su\"]= df[\"su\"].fillna(df[\"su\"].value_counts().idxmax())\n",
    "df[\"rbc\"]= df[\"rbc\"].fillna(df[\"rbc\"].value_counts().idxmax())\n",
    "df[\"pc\"]= df[\"pc\"].fillna(df[\"pc\"].value_counts().idxmax())\n",
    "df[\"pcc\"]= df[\"pcc\"].fillna(df[\"pcc\"].value_counts().idxmax())\n",
    "df[\"ba\"]= df[\"ba\"].fillna(df[\"ba\"].value_counts().idxmax())\n",
    "df[\"htn\"]= df[\"htn\"].fillna(df[\"htn\"].value_counts().idxmax())\n",
    "df[\"dm\"]= df[\"dm\"].fillna(df[\"dm\"].value_counts().idxmax())\n",
    "df[\"cad\"]= df[\"cad\"].fillna(df[\"cad\"].value_counts().idxmax())\n",
    "df[\"appet\"]= df[\"appet\"].fillna(df[\"appet\"].value_counts().idxmax())\n",
    "df[\"pe\"]= df[\"pe\"].fillna(df[\"pe\"].value_counts().idxmax())\n",
    "df[\"ane\"]= df[\"ane\"].fillna(df[\"ane\"].value_counts().idxmax())"
   ]
  },
  {
   "cell_type": "code",
   "execution_count": 6,
   "metadata": {},
   "outputs": [],
   "source": [
    "dictionary = {\n",
    "    'rbc' :{\n",
    "    'abnormal':1,\n",
    "    'normal':0,\n",
    "    },\n",
    "    'pc' :{\n",
    "    'abnormal':1,\n",
    "    'normal':0,\n",
    "    },\n",
    "    'pcc' :{\n",
    "    'notpresent':0,\n",
    "    'present':1,\n",
    "    },\n",
    "    'ba' :{\n",
    "    'notpresent':0,\n",
    "    'present':1,\n",
    "    },\n",
    "    'htn' :{\n",
    "    'yes':1,\n",
    "    'no':0,\n",
    "    },\n",
    "    'dm' :{\n",
    "    'yes':1,\n",
    "    'no':0,\n",
    "    },\n",
    "    'cad' :{\n",
    "    'yes':1,\n",
    "    'no':0,\n",
    "    },\n",
    "    'appet' :{\n",
    "    'good':1,\n",
    "    'poor':0,\n",
    "    },\n",
    "    'pe' :{\n",
    "    'yes':1,\n",
    "    'no':0,\n",
    "    },\n",
    "    'ane' :{\n",
    "    'yes':1,\n",
    "    'no':0,\n",
    "    },\n",
    "    'classification':{\n",
    "        'ckd':1,\n",
    "        'notckd':0,\n",
    "    }\n",
    "}\n",
    "df=df.replace(dictionary)"
   ]
  },
  {
   "cell_type": "code",
   "execution_count": 7,
   "metadata": {},
   "outputs": [],
   "source": [
    "imputer = KNNImputer(n_neighbors=5)\n",
    "df_filled = imputer.fit_transform(df)"
   ]
  },
  {
   "cell_type": "code",
   "execution_count": 8,
   "metadata": {},
   "outputs": [
    {
     "name": "stdout",
     "output_type": "stream",
     "text": [
      "<class 'pandas.core.frame.DataFrame'>\n",
      "RangeIndex: 400 entries, 0 to 399\n",
      "Data columns (total 25 columns):\n",
      " #   Column  Non-Null Count  Dtype  \n",
      "---  ------  --------------  -----  \n",
      " 0   0       400 non-null    float64\n",
      " 1   1       400 non-null    float64\n",
      " 2   2       400 non-null    float64\n",
      " 3   3       400 non-null    float64\n",
      " 4   4       400 non-null    float64\n",
      " 5   5       400 non-null    float64\n",
      " 6   6       400 non-null    float64\n",
      " 7   7       400 non-null    float64\n",
      " 8   8       400 non-null    float64\n",
      " 9   9       400 non-null    float64\n",
      " 10  10      400 non-null    float64\n",
      " 11  11      400 non-null    float64\n",
      " 12  12      400 non-null    float64\n",
      " 13  13      400 non-null    float64\n",
      " 14  14      400 non-null    float64\n",
      " 15  15      400 non-null    float64\n",
      " 16  16      400 non-null    float64\n",
      " 17  17      400 non-null    float64\n",
      " 18  18      400 non-null    float64\n",
      " 19  19      400 non-null    float64\n",
      " 20  20      400 non-null    float64\n",
      " 21  21      400 non-null    float64\n",
      " 22  22      400 non-null    float64\n",
      " 23  23      400 non-null    float64\n",
      " 24  24      400 non-null    float64\n",
      "dtypes: float64(25)\n",
      "memory usage: 78.2 KB\n"
     ]
    }
   ],
   "source": [
    "df2 = pd.DataFrame(data = df_filled)\n",
    "df2.info()"
   ]
  },
  {
   "cell_type": "code",
   "execution_count": 9,
   "metadata": {},
   "outputs": [
    {
     "data": {
      "text/plain": [
       "Index(['age', 'bp', 'sg', 'al', 'su', 'rbc', 'pc', 'pcc', 'ba', 'bgr', 'bu',\n",
       "       'sc', 'sod', 'pot', 'hemo', 'pcv', 'wc', 'rc', 'htn', 'dm', 'cad',\n",
       "       'appet', 'pe', 'ane', 'class'],\n",
       "      dtype='object')"
      ]
     },
     "execution_count": 9,
     "metadata": {},
     "output_type": "execute_result"
    }
   ],
   "source": [
    "kolom = ['age','bp','sg','al','su','rbc','pc','pcc','ba',\n",
    "          'bgr','bu','sc','sod','pot','hemo','pcv','wc','rc',\n",
    "          'htn','dm','cad','appet','pe','ane','class']\n",
    "df2.columns=kolom\n",
    "df2.columns"
   ]
  },
  {
   "cell_type": "code",
   "execution_count": 10,
   "metadata": {},
   "outputs": [],
   "source": [
    "#mulai perhitungan\n",
    "score=[] \n",
    "algorithms=[] "
   ]
  },
  {
   "cell_type": "code",
   "execution_count": 11,
   "metadata": {},
   "outputs": [],
   "source": [
    "y=df2['class']\n",
    "x=df2.drop(['class'],axis=1)"
   ]
  },
  {
   "cell_type": "code",
   "execution_count": 12,
   "metadata": {},
   "outputs": [],
   "source": [
    "x_train,x_test,y_train,y_test=train_test_split(x,y,random_state=42,test_size=0.3)"
   ]
  },
  {
   "cell_type": "code",
   "execution_count": 13,
   "metadata": {},
   "outputs": [
    {
     "name": "stdout",
     "output_type": "stream",
     "text": [
      "KNN accuracy = 70.83333333333334\n"
     ]
    }
   ],
   "source": [
    "#model and accuracy\n",
    "knn=KNeighborsClassifier(n_neighbors=3)\n",
    "knn.fit(x_train,y_train)\n",
    "knn.predict(x_test)\n",
    "score.append(knn.score(x_test,y_test)*100)\n",
    "algorithms.append(\"KNN\")\n",
    "print(\"KNN accuracy =\",knn.score(x_test,y_test)*100)"
   ]
  },
  {
   "cell_type": "code",
   "execution_count": 14,
   "metadata": {},
   "outputs": [
    {
     "ename": "NameError",
     "evalue": "name 'confusion_matrix' is not defined",
     "output_type": "error",
     "traceback": [
      "\u001b[1;31m---------------------------------------------------------------------------\u001b[0m",
      "\u001b[1;31mNameError\u001b[0m                                 Traceback (most recent call last)",
      "\u001b[1;32m<ipython-input-14-476c11c6103a>\u001b[0m in \u001b[0;36m<module>\u001b[1;34m\u001b[0m\n\u001b[0;32m      2\u001b[0m \u001b[0my_pred\u001b[0m\u001b[1;33m=\u001b[0m\u001b[0mknn\u001b[0m\u001b[1;33m.\u001b[0m\u001b[0mpredict\u001b[0m\u001b[1;33m(\u001b[0m\u001b[0mx_test\u001b[0m\u001b[1;33m)\u001b[0m\u001b[1;33m\u001b[0m\u001b[1;33m\u001b[0m\u001b[0m\n\u001b[0;32m      3\u001b[0m \u001b[0my_true\u001b[0m\u001b[1;33m=\u001b[0m\u001b[0my_test\u001b[0m\u001b[1;33m\u001b[0m\u001b[1;33m\u001b[0m\u001b[0m\n\u001b[1;32m----> 4\u001b[1;33m \u001b[0mcm\u001b[0m\u001b[1;33m=\u001b[0m\u001b[0mconfusion_matrix\u001b[0m\u001b[1;33m(\u001b[0m\u001b[0my_test\u001b[0m\u001b[1;33m,\u001b[0m\u001b[0my_pred\u001b[0m\u001b[1;33m)\u001b[0m\u001b[1;33m\u001b[0m\u001b[1;33m\u001b[0m\u001b[0m\n\u001b[0m\u001b[0;32m      5\u001b[0m \u001b[0mcm\u001b[0m\u001b[1;33m\u001b[0m\u001b[1;33m\u001b[0m\u001b[0m\n",
      "\u001b[1;31mNameError\u001b[0m: name 'confusion_matrix' is not defined"
     ]
    }
   ],
   "source": [
    "#Confusion Matrix\n",
    "y_pred=knn.predict(x_test)\n",
    "y_true=y_test\n",
    "cm=confusion_matrix(y_test,y_pred)\n",
    "cm"
   ]
  },
  {
   "cell_type": "code",
   "execution_count": null,
   "metadata": {},
   "outputs": [],
   "source": [
    "knn_scores = []\n",
    "for k in range(1,21):\n",
    "    knn_classifier = KNeighborsClassifier(n_neighbors=k)\n",
    "    score = cross_val_score(knn_classifier,x_train,y_train,cv=10)\n",
    "    knn_scores.append(score.mean())"
   ]
  },
  {
   "cell_type": "code",
   "execution_count": null,
   "metadata": {},
   "outputs": [],
   "source": [
    "plt.plot([k for k in range(1,21)], knn_scores,color='red')\n",
    "for i in range (1,21):\n",
    "    plt.text(i, knn_scores[i-1], (i,knn_scores[i-1]))\n",
    "plt.xticks([i for i in range(1,21)])\n",
    "plt.xlabel('number of neighbour')\n",
    "plt.ylabel('scores')\n",
    "plt.title('KNN score diferent valus')"
   ]
  },
  {
   "cell_type": "code",
   "execution_count": null,
   "metadata": {},
   "outputs": [],
   "source": [
    "knn = KNeighborsClassifier(n_neighbors=3, metric = 'euclidean',n_jobs=-1,\n",
    "                                      weights='distance')"
   ]
  },
  {
   "cell_type": "code",
   "execution_count": null,
   "metadata": {},
   "outputs": [],
   "source": [
    "knn.fit(x_train,y_train)"
   ]
  },
  {
   "cell_type": "code",
   "execution_count": null,
   "metadata": {},
   "outputs": [],
   "source": [
    "ypred=knn.predict(x_test)\n",
    "print('acc : ',accuracy_score(y_test,ypred))"
   ]
  },
  {
   "cell_type": "code",
   "execution_count": null,
   "metadata": {},
   "outputs": [],
   "source": [
    "sfs = SFS(knn,\n",
    "        k_features=24,\n",
    "        forward=True,\n",
    "        floating=False,\n",
    "        verbose=2,\n",
    "        scoring='accuracy',\n",
    "        cv=5,\n",
    "        n_jobs=-1)"
   ]
  },
  {
   "cell_type": "code",
   "execution_count": null,
   "metadata": {},
   "outputs": [],
   "source": [
    "sfs=sfs.fit(x_train,y_train)"
   ]
  },
  {
   "cell_type": "code",
   "execution_count": null,
   "metadata": {},
   "outputs": [],
   "source": [
    "sfs1 = SFS(knn,\n",
    "        k_features=6,\n",
    "        forward=True,\n",
    "        floating=False,\n",
    "        verbose=2,\n",
    "        scoring='accuracy',\n",
    "        cv=5,\n",
    "        n_jobs=-1)"
   ]
  },
  {
   "cell_type": "code",
   "execution_count": null,
   "metadata": {},
   "outputs": [],
   "source": [
    "sfs1=sfs1.fit(x_train,y_train)"
   ]
  },
  {
   "cell_type": "code",
   "execution_count": null,
   "metadata": {},
   "outputs": [],
   "source": [
    "pd.DataFrame.from_dict(sfs1.get_metric_dict()).T"
   ]
  },
  {
   "cell_type": "code",
   "execution_count": null,
   "metadata": {},
   "outputs": [],
   "source": [
    "sfs1.k_feature_idx_"
   ]
  },
  {
   "cell_type": "code",
   "execution_count": null,
   "metadata": {},
   "outputs": [],
   "source": [
    "xtrain_fs=sfs1.transform(x_train)\n",
    "xtest_fs=sfs1.transform(x_test)"
   ]
  },
  {
   "cell_type": "code",
   "execution_count": null,
   "metadata": {},
   "outputs": [],
   "source": [
    "knn.fit(xtrain_fs,y_train)"
   ]
  },
  {
   "cell_type": "code",
   "execution_count": null,
   "metadata": {},
   "outputs": [],
   "source": [
    "ypred=knn.predict(xtest_fs)\n",
    "print('acc : ',accuracy_score(y_test,ypred)*100)"
   ]
  },
  {
   "cell_type": "markdown",
   "metadata": {},
   "source": [
    "SEMUA DATA"
   ]
  },
  {
   "cell_type": "code",
   "execution_count": null,
   "metadata": {},
   "outputs": [],
   "source": [
    "knn1 = KNeighborsClassifier(n_neighbors=3, metric = 'euclidean',n_jobs=-1,\n",
    "                                      weights='distance')\n",
    "knn1.fit(x,y)"
   ]
  },
  {
   "cell_type": "code",
   "execution_count": null,
   "metadata": {},
   "outputs": [],
   "source": [
    "sfs2 = SFS(knn1,\n",
    "        k_features=24,\n",
    "        forward=True,\n",
    "        floating=False,\n",
    "        verbose=2,\n",
    "        scoring='accuracy',\n",
    "        cv=10,\n",
    "        n_jobs=-1)"
   ]
  },
  {
   "cell_type": "code",
   "execution_count": null,
   "metadata": {},
   "outputs": [],
   "source": [
    "sfs2=sfs2.fit(x,y)"
   ]
  },
  {
   "cell_type": "code",
   "execution_count": null,
   "metadata": {},
   "outputs": [],
   "source": [
    "sfs3 = SFS(knn1,\n",
    "        k_features=8,\n",
    "        forward=True,\n",
    "        floating=False,\n",
    "        verbose=2,\n",
    "        scoring='accuracy',\n",
    "        cv=10,\n",
    "        n_jobs=-1)"
   ]
  },
  {
   "cell_type": "code",
   "execution_count": null,
   "metadata": {},
   "outputs": [],
   "source": [
    "sfs3=sfs3.fit(x,y)"
   ]
  },
  {
   "cell_type": "code",
   "execution_count": null,
   "metadata": {},
   "outputs": [],
   "source": [
    "pd.DataFrame.from_dict(sfs3.get_metric_dict()).T"
   ]
  },
  {
   "cell_type": "code",
   "execution_count": null,
   "metadata": {},
   "outputs": [],
   "source": []
  }
 ],
 "metadata": {
  "kernelspec": {
   "display_name": "Python 3",
   "language": "python",
   "name": "python3"
  },
  "language_info": {
   "codemirror_mode": {
    "name": "ipython",
    "version": 3
   },
   "file_extension": ".py",
   "mimetype": "text/x-python",
   "name": "python",
   "nbconvert_exporter": "python",
   "pygments_lexer": "ipython3",
   "version": "3.8.5"
  }
 },
 "nbformat": 4,
 "nbformat_minor": 2
}
